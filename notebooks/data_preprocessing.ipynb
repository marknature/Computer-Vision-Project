{
 "cells": [
  {
   "cell_type": "raw",
   "id": "a901d3a3-3794-4604-9716-6768ed0fbf9b",
   "metadata": {},
   "source": [
    "## Preprocessing\n",
    "Create a Jupyter notebook (data_preprocessing.ipynb) for preprocessing images and a Python script (data_preprocessing.py) to automate the preprocessing pipeline."
   ]
  },
  {
   "cell_type": "code",
   "execution_count": 10,
   "id": "d0f702fe-93fc-4311-91e8-535f323acffb",
   "metadata": {},
   "outputs": [],
   "source": [
    "# Imports\n",
    "import os\n",
    "import numpy as np\n",
    "import matplotlib.pyplot as plt\n",
    "from tensorflow.keras.preprocessing.image import ImageDataGenerator\n",
    "from src.utils import load_data, plot_sample_images"
   ]
  },
  {
   "cell_type": "code",
   "execution_count": 3,
   "id": "2575b190-52e8-415a-8699-8ec56c890d39",
   "metadata": {},
   "outputs": [],
   "source": [
    "# Paths to data directories\n",
    "train_dir = 'data/train'\n",
    "test_dir = 'data/test'\n",
    "val_dir = 'data/val'\n",
    "\n",
    "# Load and preprocess data\n",
    "img_height, img_width = 224, 224\n",
    "batch_size = 32\n",
    "\n",
    "train_datagen = ImageDataGenerator(rescale=1./255, rotation_range=20, width_shift_range=0.2,\n",
    "                                   height_shift_range=0.2, shear_range=0.2, zoom_range=0.2,\n",
    "                                   horizontal_flip=True, fill_mode='nearest')\n",
    "test_datagen = ImageDataGenerator(rescale=1./255)"
   ]
  },
  {
   "cell_type": "code",
   "execution_count": null,
   "id": "c1a50b15-2276-4435-be8e-d5de1ca330d3",
   "metadata": {},
   "outputs": [],
   "source": [
    "train_data = train_datagen.flow_from_directory(train_dir, target_size=(img_height, img_width),\n",
    "                                               batch_size=batch_size, class_mode='binary')\n",
    "test_data = test_datagen.flow_from_directory(test_dir, target_size=(img_height, img_width),\n",
    "                                             batch_size=batch_size, class_mode='binary')\n",
    "val_data = test_datagen.flow_from_directory(val_dir, target_size=(img_height, img_width),\n",
    "                                            batch_size=batch_size, class_mode='binary')\n",
    "\n",
    "# Visualize some sample images\n",
    "plot_sample_images(train_data)"
   ]
  },
  {
   "cell_type": "code",
   "execution_count": 12,
   "id": "36bb4c5b-0d13-4904-9204-7f72e5eb5244",
   "metadata": {},
   "outputs": [],
   "source": [
    "# Plot training history\n",
    "def plot_training_history(history):\n",
    "    acc = history.history['accuracy']\n",
    "    val_acc = history.history['val_accuracy']\n",
    "    loss = history.history['loss']\n",
    "    val_loss = history.history['val_loss']\n",
    "\n",
    "    plt.figure(figsize=(8, 8))\n",
    "    plt.subplot(2, 1, 1)\n",
    "    plt.plot(acc, label='Training Accuracy')\n",
    "    plt.plot(val_acc, label='Validation Accuracy')\n",
    "    plt.legend(loc='lower right')\n",
    "    plt.ylabel('Accuracy')\n",
    "    plt.title('Training and Validation Accuracy')\n",
    "\n",
    "    plt.subplot(2, 1, 2)\n",
    "    plt.plot(loss, label='Training Loss')\n",
    "    plt.plot(val_loss, label='Validation Loss')\n",
    "    plt.legend(loc='upper right')\n",
    "    plt.ylabel('Loss')\n",
    "    plt.title('Training and Validation Loss')\n",
    "    plt.xlabel('epoch')\n",
    "    plt.show()"
   ]
  },
  {
   "cell_type": "code",
   "execution_count": null,
   "id": "b31b0bbb",
   "metadata": {},
   "outputs": [],
   "source": [
    "plot_training_history(history)"
   ]
  }
 ],
 "metadata": {
  "kernelspec": {
   "display_name": "Python 3 (ipykernel)",
   "language": "python",
   "name": "python3"
  },
  "language_info": {
   "codemirror_mode": {
    "name": "ipython",
    "version": 3
   },
   "file_extension": ".py",
   "mimetype": "text/x-python",
   "name": "python",
   "nbconvert_exporter": "python",
   "pygments_lexer": "ipython3",
   "version": "3.11.7"
  }
 },
 "nbformat": 4,
 "nbformat_minor": 5
}
